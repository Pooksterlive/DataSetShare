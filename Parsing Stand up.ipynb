{
 "cells": [
  {
   "cell_type": "markdown",
   "id": "25f6e817",
   "metadata": {},
   "source": [
    "In this document, we are going to be pulling all of the stand up comedy transcripts from scrapsoftheloft.com. We will then write all of those transcripts to their own csv file."
   ]
  },
  {
   "cell_type": "code",
   "execution_count": null,
   "id": "f2c42e86",
   "metadata": {},
   "outputs": [],
   "source": [
    "import requests\n",
    "import httplib2\n",
    "from bs4 import BeautifulSoup, SoupStrainer\n",
    "from bs4.element import Comment\n",
    "import pandas as pd\n",
    "from pprint import pprint\n",
    "import re\n",
    "import numpy as np"
   ]
  },
  {
   "cell_type": "code",
   "execution_count": null,
   "id": "2daeaf95",
   "metadata": {},
   "outputs": [],
   "source": [
    "#https://stackoverflow.com/questions/1080411/retrieve-links-from-web-page-using-python-and-beautifulsoup"
   ]
  },
  {
   "cell_type": "markdown",
   "id": "82a772eb",
   "metadata": {},
   "source": [
    "These chunks get all of the links from the page that houses links to transcripts and makes sure they aren't duplicates. "
   ]
  },
  {
   "cell_type": "code",
   "execution_count": null,
   "id": "49e35830",
   "metadata": {},
   "outputs": [],
   "source": [
    "source = requests.get('https://scrapsfromtheloft.com/stand-up-comedy-scripts/').text\n",
    "soup = BeautifulSoup(source, 'lxml')\n",
    "#print(soup.prettify())"
   ]
  },
  {
   "cell_type": "code",
   "execution_count": null,
   "id": "a7626eb5",
   "metadata": {},
   "outputs": [],
   "source": [
    "transcripts = []\n",
    "for a in soup.find_all(\"a\", href=True):\n",
    "    if \"transcript\" in a['href']:\n",
    "        transcripts.append(a['href'])\n",
    "#print(transcripts)\n",
    "del transcripts[0:9]"
   ]
  },
  {
   "cell_type": "markdown",
   "id": "7c3e184c",
   "metadata": {},
   "source": [
    "This removes duplicate links, on the off chance that there are any. "
   ]
  },
  {
   "cell_type": "code",
   "execution_count": null,
   "id": "749b961d",
   "metadata": {},
   "outputs": [],
   "source": [
    "tranSet = set(transcripts)\n",
    "tranList = list(tranSet)\n",
    "#print(tranList)"
   ]
  },
  {
   "cell_type": "markdown",
   "id": "ff31ff42",
   "metadata": {},
   "source": [
    "This chunk separates the links that aren't transcripts from the rest. "
   ]
  },
  {
   "cell_type": "code",
   "execution_count": null,
   "id": "41ce5e0b",
   "metadata": {},
   "outputs": [],
   "source": [
    "tranList = [item for item in tranList if \"comedy/\" in item]\n",
    "#tranList"
   ]
  },
  {
   "cell_type": "markdown",
   "id": "d12f8d62",
   "metadata": {},
   "source": [
    "Now we are acquiring the transcripts "
   ]
  },
  {
   "cell_type": "code",
   "execution_count": null,
   "id": "7bf130dc",
   "metadata": {},
   "outputs": [],
   "source": [
    "titles = []\n",
    "Transcripts = dict()\n",
    "for item in tranList:\n",
    "    source = requests.get(item).text\n",
    "    soup = BeautifulSoup(source, 'lxml')\n",
    "    tranText = []    \n",
    "    elements =  soup.find_all('div', attrs={'class':\"elementor-widget-container\"})\n",
    "    for element in elements:\n",
    "        para = element.find_all(\"p\")\n",
    "        if element.text.lower() == \"share this article\":\n",
    "            break\n",
    "        tranText.extend([item.text for item in para])\n",
    "    url = item\n",
    "    junk,title = url.split(\"comedy/\")\n",
    "\n",
    "\n",
    "    titles.append(title)\n",
    "    Transcripts[item] = tranText\n",
    "\n"
   ]
  },
  {
   "cell_type": "markdown",
   "id": "5fdd95d4",
   "metadata": {},
   "source": [
    "This chunk writes the individual transcripts txt files titles"
   ]
  },
  {
   "cell_type": "code",
   "execution_count": null,
   "id": "7c684b03",
   "metadata": {},
   "outputs": [],
   "source": [
    "csv = []\n",
    "for key in Transcripts:\n",
    "    url = key\n",
    "    junk, title = url.split(\"comedy/\")\n",
    "    #remove trailing forwardslash\n",
    "    title = title[:-1]\n",
    "    title = title + \".txt\"\n",
    "    csv.append(title)"
   ]
  },
  {
   "cell_type": "markdown",
   "id": "5a81d0ab",
   "metadata": {},
   "source": [
    "Now we write the csv so we can load that into our next step, cleaning the data and get the descriptive statistics. "
   ]
  },
  {
   "cell_type": "code",
   "execution_count": null,
   "id": "d89a4cea",
   "metadata": {},
   "outputs": [],
   "source": [
    "df = pd.DataFrame({'title': titles,\n",
    "                   'link': tranList,\n",
    "                   'CSV': csv})"
   ]
  },
  {
   "cell_type": "code",
   "execution_count": null,
   "id": "12bde448",
   "metadata": {},
   "outputs": [],
   "source": [
    "def year_from_title(title_series):\n",
    "    # Regex search for 4 digits in a row\n",
    "    years = title_series.apply(lambda x: re.findall(r\"(\\d{4})\", x))\n",
    "    series_dict = years.to_dict()\n",
    "    for key in series_dict:\n",
    "        if not series_dict[key]:\n",
    "            series_dict[key] = np.nan\n",
    "        else:\n",
    "            series_dict[key] = series_dict[key][0]\n",
    "    return pd.Series(series_dict)\n",
    "            \n",
    "df['year'] = year_from_title(df.title)"
   ]
  },
  {
   "cell_type": "code",
   "execution_count": null,
   "id": "bd85e183",
   "metadata": {},
   "outputs": [],
   "source": [
    "def clean_titles(title_series):\n",
    "    # Remove everything between parentheses (year)\n",
    "    title_series = title_series.apply(lambda x: re.sub('\\(.*?\\)', '', x))\n",
    "    # Remove all other extraneous text from titles\n",
    "    remove_list = ['-','/','Transcript', 'Full', '[', ']']\n",
    "    for i in remove_list:\n",
    "        title_series = title_series.apply(lambda x: x.title().replace(i, \" \"))\n",
    "    return title_series\n",
    "\n",
    "df.title = clean_titles(df.title)"
   ]
  },
  {
   "cell_type": "code",
   "execution_count": null,
   "id": "b403f27d",
   "metadata": {},
   "outputs": [],
   "source": [
    "#df.head(4)"
   ]
  },
  {
   "cell_type": "code",
   "execution_count": null,
   "id": "378a0cdc",
   "metadata": {},
   "outputs": [],
   "source": [
    "print(f'Length : {len(df)}')\n",
    "df.to_csv(\"DF_TO_LOAD.csv\", index = False)\n",
    "df.head()"
   ]
  }
 ],
 "metadata": {
  "kernelspec": {
   "display_name": "Python 3",
   "language": "python",
   "name": "python3"
  },
  "language_info": {
   "codemirror_mode": {
    "name": "ipython",
    "version": 3
   },
   "file_extension": ".py",
   "mimetype": "text/x-python",
   "name": "python",
   "nbconvert_exporter": "python",
   "pygments_lexer": "ipython3",
   "version": "3.8.8"
  }
 },
 "nbformat": 4,
 "nbformat_minor": 5
}
