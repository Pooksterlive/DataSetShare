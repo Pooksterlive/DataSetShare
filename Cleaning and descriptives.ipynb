{
 "cells": [
  {
   "cell_type": "markdown",
   "id": "ca0b3975",
   "metadata": {},
   "source": [
    "This document will take the transcripts from the Parsing Standup document, clean them up a bit and give some descriptive stats on the data. "
   ]
  },
  {
   "cell_type": "code",
   "execution_count": null,
   "id": "5786a9d9",
   "metadata": {},
   "outputs": [],
   "source": [
    "import pandas as pd\n",
    "from pandas import DataFrame\n",
    "from collections import Counter\n",
    "from nltk import FreqDist\n",
    "from nltk.corpus import stopwords\n",
    "from nltk.tokenize import word_tokenize\n",
    "sw = stopwords.words('english')\n",
    "import numpy as np\n",
    "import re\n"
   ]
  },
  {
   "cell_type": "markdown",
   "id": "9b5d3a1e",
   "metadata": {},
   "source": [
    "This cell reads in the dataframe from the first python script so we can manipulate the data further. "
   ]
  },
  {
   "cell_type": "code",
   "execution_count": null,
   "id": "4cc4771a",
   "metadata": {},
   "outputs": [],
   "source": [
    "df = pd.read_csv(\"DF_TO_LOAD.csv\")\n",
    "df.head()\n"
   ]
  },
  {
   "cell_type": "markdown",
   "id": "85e6a64e",
   "metadata": {},
   "source": [
    "This cell takes the csv column from the dataframe and then breaks it down to tokens so we can get descriptive statistics on the transcripts. "
   ]
  },
  {
   "cell_type": "code",
   "execution_count": null,
   "id": "ba9851fa",
   "metadata": {},
   "outputs": [],
   "source": [
    "# data = []\n",
    "tot_tok = []\n",
    "unq_tok = []\n",
    "avg_len = []\n",
    "lex_div = []\n",
    "tten = []\n",
    "words = []\n",
    "transcripts = []\n",
    "    \n",
    "for item in df[\"CSV\"]:\n",
    "    with open (item, \"r\", encoding=\"UTF-8\") as infile:\n",
    "        corpus = infile.readlines()\n",
    "\n",
    "    total_tokens = 0\n",
    "    unique_tokens = 0\n",
    "    token_len = 0\n",
    "    avg_token_len = 0\n",
    "    lex_diversity = 0\n",
    "\n",
    "    corpora = \" \".join(corpus)\n",
    "    transcripts.append(corpora) #use this for lang detect, we will remove later\n",
    "    includedTokens = [w for w in corpora.split()]\n",
    "    fold = [w.lower() for w in includedTokens if w.isalpha()]\n",
    "    fold  = [w for w in fold if w not in sw]\n",
    "    \n",
    "# Get the descriptive stats\n",
    "    total_tokens = len(fold)\n",
    "\n",
    "    unique_tokens = len(set(fold))\n",
    "\n",
    "    token_len = [len(w) for w in fold]\n",
    "    avg_token_len = np.mean(token_len)\n",
    "\n",
    "    lex_diversity = len(set(fold))/len(fold)\n",
    "\n",
    "    fdtxt = FreqDist(fold)\n",
    "    fdtxt = fdtxt.most_common(10)\n",
    "\n",
    "    strtext = \"\".join([str(elem)for elem in fdtxt])\n",
    "    top_10 = strtext\n",
    "\n",
    "    tot_tok.append(total_tokens)\n",
    "    unq_tok.append(unique_tokens)\n",
    "    avg_len.append(avg_token_len)\n",
    "    lex_div.append(lex_diversity)\n",
    "    tten.append(top_10)\n",
    "    words.append(fold)"
   ]
  },
  {
   "cell_type": "markdown",
   "id": "9f663b59",
   "metadata": {},
   "source": [
    "Now we take the lists that we created and add it to our dataframe so we can produce an output csv file."
   ]
  },
  {
   "cell_type": "code",
   "execution_count": null,
   "id": "7c21f933",
   "metadata": {},
   "outputs": [],
   "source": [
    "df[\"Total_Tokens\"] = tot_tok\n",
    "df[\"Unique_Tokens\"] = unq_tok\n",
    "df[\"Avg_Token_Length\"] = avg_len\n",
    "df[\"Lex_Diversity\"] = lex_div\n",
    "df[\"Most_Frequent_Words\"] = tten\n",
    "df[\"Words\"] = words\n",
    "df[\"Transcripts\"] = transcripts\n",
    "\n"
   ]
  },
  {
   "cell_type": "code",
   "execution_count": null,
   "id": "1668de1e",
   "metadata": {},
   "outputs": [],
   "source": [
    "from langdetect import detect\n",
    "\n",
    "# Dectect language based on the first 500 characters and create a language column in the df\n",
    "df['language'] = df.Transcripts.apply(lambda x: detect(x[:500]))\n",
    "\n",
    "print(df.language.value_counts())\n",
    "df.head()\n",
    "#we want to get rid of any non-english specials as it doesn't help any analysis that we will be doing.\n",
    "df = df.drop(df.index[df['language']!= \"en\"])    \n",
    "del df[\"Transcripts\"]"
   ]
  },
  {
   "cell_type": "code",
   "execution_count": null,
   "id": "3e21e276",
   "metadata": {
    "scrolled": true
   },
   "outputs": [],
   "source": [
    "df.head(4)"
   ]
  },
  {
   "cell_type": "code",
   "execution_count": null,
   "id": "558a5e6f",
   "metadata": {},
   "outputs": [],
   "source": [
    "df.to_csv(\"DataSetShare.csv\", index = False)"
   ]
  },
  {
   "cell_type": "markdown",
   "id": "3d19e74d",
   "metadata": {},
   "source": [
    "Just messing around down here, can ignore, but may be interesting.\n"
   ]
  },
  {
   "cell_type": "code",
   "execution_count": null,
   "id": "a3ad1b71",
   "metadata": {},
   "outputs": [],
   "source": [
    "from wordcloud import WordCloud\n",
    "\n",
    "print(df.title[60])\n",
    "wordcloud = WordCloud(background_color=\"Black\", max_words=5000, contour_width=3, contour_color='midnightblue')\n",
    "wordcloud.generate(' '.join(df.Words[60]))\n",
    "wordcloud.to_image()\n"
   ]
  },
  {
   "cell_type": "code",
   "execution_count": null,
   "id": "a721aa3d",
   "metadata": {},
   "outputs": [],
   "source": []
  }
 ],
 "metadata": {
  "kernelspec": {
   "display_name": "Python 3",
   "language": "python",
   "name": "python3"
  },
  "language_info": {
   "codemirror_mode": {
    "name": "ipython",
    "version": 3
   },
   "file_extension": ".py",
   "mimetype": "text/x-python",
   "name": "python",
   "nbconvert_exporter": "python",
   "pygments_lexer": "ipython3",
   "version": "3.8.8"
  }
 },
 "nbformat": 4,
 "nbformat_minor": 5
}
